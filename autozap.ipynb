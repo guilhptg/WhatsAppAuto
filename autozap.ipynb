{
 "cells": [
  {
   "cell_type": "code",
   "execution_count": 66,
   "metadata": {},
   "outputs": [],
   "source": [
    "from selenium import webdriver\n",
    "from selenium.webdriver.chrome.service import Service\n",
    "from webdriver_manager.chrome import ChromeDriverManager\n",
    "import time\n",
    "\n",
    "service = Service(ChromeDriverManager().install())\n",
    "nav = webdriver.Chrome(service=service)\n",
    "\n",
    "nav.get('https://web.whatsapp.com')\n",
    "\n",
    "time.sleep(80)\n"
   ]
  },
  {
   "cell_type": "code",
   "execution_count": 96,
   "metadata": {},
   "outputs": [],
   "source": [
    "\n",
    "from selenium.webdriver.common.keys import Keys\n",
    "import pyperclip\n",
    "from time import sleep\n",
    "\n",
    "mensagem = '''Ola ! Teste de robô para enviar mensagens automaticas.\n",
    "Essa mensagem não precisa ser respondida.'''\n",
    "\n",
    "lista_contatos = ['Guilherme Portugal', 'Gui Sp', 'autozap', 'Teste Zap', 'Teste Automação', 'aautozap']\n",
    "\n",
    "# enviar mensagem para meu numero,\n",
    "#clique lupa\n",
    "#escrever 'voce'\n",
    "#dar enter\n",
    "\n",
    "nav.find_element('xpath', '//*[@id=\"side\"]/div[1]/div/div[2]/button/div[2]/span').click()\n",
    "# para depois encamihar para lista de contatos\n",
    "nav.find_element('xpath', '//*[@id=\"side\"]/div[1]/div/div[2]/div[2]/div/div[1]/p').send_keys('Guilherme Portugal')\n",
    "nav.find_element('xpath', '//*[@id=\"side\"]/div[1]/div/div[2]/div[2]/div/div[1]/p').send_keys(Keys.ENTER)\n",
    "sleep(1)\n",
    "\n",
    "\n",
    "# escrever a mensagem para mim msm\n",
    "pyperclip.copy(mensagem)\n",
    "nav.find_element('xpath', '//*[@id=\"main\"]/footer/div[1]/div/span[2]/div/div[2]/div[1]/div/div[1]/p').send_keys(Keys.CONTROL + 'v')\n",
    "nav.find_element('xpath', '//*[@id=\"main\"]/footer/div[1]/div/span[2]/div/div[2]/div[1]/div/div[1]/p').send_keys(Keys.ENTER)\n",
    "\n",
    "\n",
    "#\n"
   ]
  },
  {
   "cell_type": "code",
   "execution_count": 99,
   "metadata": {},
   "outputs": [
    {
     "data": {
      "text/plain": [
       "'\\n#outro contato\\nnav.find_element(\\'xpath\\', \\'//*[@id=\"app\"]/div/span[2]/div/div/div/div/div/div/div/div[1]/div/div[2]/div[2]/div/div[1]/p\\').send_keys(\\'Teste Zap\\')\\n\\nsleep(1)\\nnav.find_element(\\'xpath\\', \\'//*[@id=\"app\"]/div/span[2]/div/div/div/div/div/div/div/div[1]/div/div[2]/div[2]/div/div[1]/p\\').send_keys(Keys.ENTER)\\nsleep(0.5)\\nnav.find_element(\\'xpath\\', \\'//*[@id=\"app\"]/div/span[2]/div/div/div/div/div/div/div/div[1]/div/div[2]/div[2]/div/div[1]/p\\').send_keys(Keys.DELETE)\\nsleep(1)\\n\\n'"
      ]
     },
     "execution_count": 99,
     "metadata": {},
     "output_type": "execute_result"
    }
   ],
   "source": [
    "from selenium.webdriver.common.action_chains import ActionChains\n",
    "\n",
    "#colocar mouse na seta \n",
    "\n",
    "lista_elementos = nav.find_elements('class name', '_amkd')\n",
    "for item in lista_elementos:\n",
    "    mensagem = mensagem.replace('\\n', '')\n",
    "    texto = item.text.replace('\\n', '')\n",
    "    if mensagem in texto:\n",
    "        elemento = item\n",
    "\n",
    "\n"
   ]
  },
  {
   "cell_type": "code",
   "execution_count": 100,
   "metadata": {},
   "outputs": [
    {
     "name": "stdout",
     "output_type": "stream",
     "text": [
      "6\n",
      "['Guilherme Portugal', 'Gui Sp', 'autozap', 'Teste Zap', 'Teste Automação']\n"
     ]
    },
    {
     "ename": "StaleElementReferenceException",
     "evalue": "Message: stale element reference: stale element not found in the current frame\n  (Session info: chrome=125.0.6422.142); For documentation on this error, please visit: https://www.selenium.dev/documentation/webdriver/troubleshooting/errors#stale-element-reference-exception\nStacktrace:\n\tGetHandleVerifier [0x0122B8E3+45827]\n\t(No symbol) [0x011BDCC4]\n\t(No symbol) [0x010B150F]\n\t(No symbol) [0x010B660F]\n\t(No symbol) [0x010B8298]\n\t(No symbol) [0x010B8310]\n\t(No symbol) [0x010F7F89]\n\t(No symbol) [0x010F5E66]\n\t(No symbol) [0x010F425B]\n\t(No symbol) [0x010F3823]\n\t(No symbol) [0x010E85EF]\n\t(No symbol) [0x01112DFC]\n\t(No symbol) [0x010E8075]\n\t(No symbol) [0x01113094]\n\t(No symbol) [0x0112C034]\n\t(No symbol) [0x01112B96]\n\t(No symbol) [0x010E6998]\n\t(No symbol) [0x010E751D]\n\tGetHandleVerifier [0x014E4513+2899763]\n\tGetHandleVerifier [0x0153793D+3240797]\n\tGetHandleVerifier [0x012B13B4+593364]\n\tGetHandleVerifier [0x012B82DC+621820]\n\t(No symbol) [0x011C70A4]\n\t(No symbol) [0x011C37A8]\n\t(No symbol) [0x011C3947]\n\t(No symbol) [0x011B59FE]\n\tBaseThreadInitThunk [0x75B3FCC9+25]\n\tRtlGetAppContainerNamedObjectPath [0x777D80CE+286]\n\tRtlGetAppContainerNamedObjectPath [0x777D809E+238]\n",
     "output_type": "error",
     "traceback": [
      "\u001b[1;31m---------------------------------------------------------------------------\u001b[0m",
      "\u001b[1;31mStaleElementReferenceException\u001b[0m            Traceback (most recent call last)",
      "Cell \u001b[1;32mIn[100], line 19\u001b[0m\n\u001b[0;32m     16\u001b[0m ActionChains(nav)\u001b[38;5;241m.\u001b[39mmove_to_element(elemento)\u001b[38;5;241m.\u001b[39mperform()\n\u001b[0;32m     17\u001b[0m elemento\u001b[38;5;241m.\u001b[39mfind_element(\u001b[38;5;124m'\u001b[39m\u001b[38;5;124mclass name\u001b[39m\u001b[38;5;124m'\u001b[39m, \u001b[38;5;124m'\u001b[39m\u001b[38;5;124m_ahkm\u001b[39m\u001b[38;5;124m'\u001b[39m)\u001b[38;5;241m.\u001b[39mclick()\n\u001b[1;32m---> 19\u001b[0m \u001b[43mnav\u001b[49m\u001b[38;5;241;43m.\u001b[39;49m\u001b[43mfind_element\u001b[49m\u001b[43m(\u001b[49m\u001b[38;5;124;43m'\u001b[39;49m\u001b[38;5;124;43mxpath\u001b[39;49m\u001b[38;5;124;43m'\u001b[39;49m\u001b[43m,\u001b[49m\u001b[43m \u001b[49m\u001b[38;5;124;43m'\u001b[39;49m\u001b[38;5;124;43m//*[@id=\u001b[39;49m\u001b[38;5;124;43m\"\u001b[39;49m\u001b[38;5;124;43mapp\u001b[39;49m\u001b[38;5;124;43m\"\u001b[39;49m\u001b[38;5;124;43m]/div/span[5]/div/ul/div/li[4]/div\u001b[39;49m\u001b[38;5;124;43m'\u001b[39;49m\u001b[43m)\u001b[49m\u001b[38;5;241;43m.\u001b[39;49m\u001b[43mclick\u001b[49m\u001b[43m(\u001b[49m\u001b[43m)\u001b[49m\n\u001b[0;32m     21\u001b[0m \u001b[38;5;66;03m# encaminhar\u001b[39;00m\n\u001b[0;32m     22\u001b[0m nav\u001b[38;5;241m.\u001b[39mfind_element(\u001b[38;5;124m'\u001b[39m\u001b[38;5;124mxpath\u001b[39m\u001b[38;5;124m'\u001b[39m, \u001b[38;5;124m'\u001b[39m\u001b[38;5;124m//*[@id=\u001b[39m\u001b[38;5;124m\"\u001b[39m\u001b[38;5;124mmain\u001b[39m\u001b[38;5;124m\"\u001b[39m\u001b[38;5;124m]/span[2]/div/button[4]\u001b[39m\u001b[38;5;124m'\u001b[39m)\u001b[38;5;241m.\u001b[39mclick()\n",
      "File \u001b[1;32mc:\\Users\\guik1\\AppData\\Local\\Programs\\Python\\Python312\\Lib\\site-packages\\selenium\\webdriver\\remote\\webelement.py:94\u001b[0m, in \u001b[0;36mWebElement.click\u001b[1;34m(self)\u001b[0m\n\u001b[0;32m     92\u001b[0m \u001b[38;5;28;01mdef\u001b[39;00m \u001b[38;5;21mclick\u001b[39m(\u001b[38;5;28mself\u001b[39m) \u001b[38;5;241m-\u001b[39m\u001b[38;5;241m>\u001b[39m \u001b[38;5;28;01mNone\u001b[39;00m:\n\u001b[0;32m     93\u001b[0m \u001b[38;5;250m    \u001b[39m\u001b[38;5;124;03m\"\"\"Clicks the element.\"\"\"\u001b[39;00m\n\u001b[1;32m---> 94\u001b[0m     \u001b[38;5;28;43mself\u001b[39;49m\u001b[38;5;241;43m.\u001b[39;49m\u001b[43m_execute\u001b[49m\u001b[43m(\u001b[49m\u001b[43mCommand\u001b[49m\u001b[38;5;241;43m.\u001b[39;49m\u001b[43mCLICK_ELEMENT\u001b[49m\u001b[43m)\u001b[49m\n",
      "File \u001b[1;32mc:\\Users\\guik1\\AppData\\Local\\Programs\\Python\\Python312\\Lib\\site-packages\\selenium\\webdriver\\remote\\webelement.py:395\u001b[0m, in \u001b[0;36mWebElement._execute\u001b[1;34m(self, command, params)\u001b[0m\n\u001b[0;32m    393\u001b[0m     params \u001b[38;5;241m=\u001b[39m {}\n\u001b[0;32m    394\u001b[0m params[\u001b[38;5;124m\"\u001b[39m\u001b[38;5;124mid\u001b[39m\u001b[38;5;124m\"\u001b[39m] \u001b[38;5;241m=\u001b[39m \u001b[38;5;28mself\u001b[39m\u001b[38;5;241m.\u001b[39m_id\n\u001b[1;32m--> 395\u001b[0m \u001b[38;5;28;01mreturn\u001b[39;00m \u001b[38;5;28;43mself\u001b[39;49m\u001b[38;5;241;43m.\u001b[39;49m\u001b[43m_parent\u001b[49m\u001b[38;5;241;43m.\u001b[39;49m\u001b[43mexecute\u001b[49m\u001b[43m(\u001b[49m\u001b[43mcommand\u001b[49m\u001b[43m,\u001b[49m\u001b[43m \u001b[49m\u001b[43mparams\u001b[49m\u001b[43m)\u001b[49m\n",
      "File \u001b[1;32mc:\\Users\\guik1\\AppData\\Local\\Programs\\Python\\Python312\\Lib\\site-packages\\selenium\\webdriver\\remote\\webdriver.py:347\u001b[0m, in \u001b[0;36mWebDriver.execute\u001b[1;34m(self, driver_command, params)\u001b[0m\n\u001b[0;32m    345\u001b[0m response \u001b[38;5;241m=\u001b[39m \u001b[38;5;28mself\u001b[39m\u001b[38;5;241m.\u001b[39mcommand_executor\u001b[38;5;241m.\u001b[39mexecute(driver_command, params)\n\u001b[0;32m    346\u001b[0m \u001b[38;5;28;01mif\u001b[39;00m response:\n\u001b[1;32m--> 347\u001b[0m     \u001b[38;5;28;43mself\u001b[39;49m\u001b[38;5;241;43m.\u001b[39;49m\u001b[43merror_handler\u001b[49m\u001b[38;5;241;43m.\u001b[39;49m\u001b[43mcheck_response\u001b[49m\u001b[43m(\u001b[49m\u001b[43mresponse\u001b[49m\u001b[43m)\u001b[49m\n\u001b[0;32m    348\u001b[0m     response[\u001b[38;5;124m\"\u001b[39m\u001b[38;5;124mvalue\u001b[39m\u001b[38;5;124m\"\u001b[39m] \u001b[38;5;241m=\u001b[39m \u001b[38;5;28mself\u001b[39m\u001b[38;5;241m.\u001b[39m_unwrap_value(response\u001b[38;5;241m.\u001b[39mget(\u001b[38;5;124m\"\u001b[39m\u001b[38;5;124mvalue\u001b[39m\u001b[38;5;124m\"\u001b[39m, \u001b[38;5;28;01mNone\u001b[39;00m))\n\u001b[0;32m    349\u001b[0m     \u001b[38;5;28;01mreturn\u001b[39;00m response\n",
      "File \u001b[1;32mc:\\Users\\guik1\\AppData\\Local\\Programs\\Python\\Python312\\Lib\\site-packages\\selenium\\webdriver\\remote\\errorhandler.py:229\u001b[0m, in \u001b[0;36mErrorHandler.check_response\u001b[1;34m(self, response)\u001b[0m\n\u001b[0;32m    227\u001b[0m         alert_text \u001b[38;5;241m=\u001b[39m value[\u001b[38;5;124m\"\u001b[39m\u001b[38;5;124malert\u001b[39m\u001b[38;5;124m\"\u001b[39m]\u001b[38;5;241m.\u001b[39mget(\u001b[38;5;124m\"\u001b[39m\u001b[38;5;124mtext\u001b[39m\u001b[38;5;124m\"\u001b[39m)\n\u001b[0;32m    228\u001b[0m     \u001b[38;5;28;01mraise\u001b[39;00m exception_class(message, screen, stacktrace, alert_text)  \u001b[38;5;66;03m# type: ignore[call-arg]  # mypy is not smart enough here\u001b[39;00m\n\u001b[1;32m--> 229\u001b[0m \u001b[38;5;28;01mraise\u001b[39;00m exception_class(message, screen, stacktrace)\n",
      "\u001b[1;31mStaleElementReferenceException\u001b[0m: Message: stale element reference: stale element not found in the current frame\n  (Session info: chrome=125.0.6422.142); For documentation on this error, please visit: https://www.selenium.dev/documentation/webdriver/troubleshooting/errors#stale-element-reference-exception\nStacktrace:\n\tGetHandleVerifier [0x0122B8E3+45827]\n\t(No symbol) [0x011BDCC4]\n\t(No symbol) [0x010B150F]\n\t(No symbol) [0x010B660F]\n\t(No symbol) [0x010B8298]\n\t(No symbol) [0x010B8310]\n\t(No symbol) [0x010F7F89]\n\t(No symbol) [0x010F5E66]\n\t(No symbol) [0x010F425B]\n\t(No symbol) [0x010F3823]\n\t(No symbol) [0x010E85EF]\n\t(No symbol) [0x01112DFC]\n\t(No symbol) [0x010E8075]\n\t(No symbol) [0x01113094]\n\t(No symbol) [0x0112C034]\n\t(No symbol) [0x01112B96]\n\t(No symbol) [0x010E6998]\n\t(No symbol) [0x010E751D]\n\tGetHandleVerifier [0x014E4513+2899763]\n\tGetHandleVerifier [0x0153793D+3240797]\n\tGetHandleVerifier [0x012B13B4+593364]\n\tGetHandleVerifier [0x012B82DC+621820]\n\t(No symbol) [0x011C70A4]\n\t(No symbol) [0x011C37A8]\n\t(No symbol) [0x011C3947]\n\t(No symbol) [0x011B59FE]\n\tBaseThreadInitThunk [0x75B3FCC9+25]\n\tRtlGetAppContainerNamedObjectPath [0x777D80CE+286]\n\tRtlGetAppContainerNamedObjectPath [0x777D809E+238]\n"
     ]
    }
   ],
   "source": [
    "qntd_contatos = len(lista_contatos)\n",
    "print(qntd_contatos)\n",
    "\n",
    "if qntd_contatos % 5 == 0:\n",
    "    qntd_blocos = qntd_contatos/5\n",
    "else:\n",
    "    qntd_blocos = int(qntd_contatos/5) + 1\n",
    "\n",
    "for i in range(qntd_blocos):\n",
    "    # rodar o codigo de encaminhamento\n",
    "    i_inicial = i * 5\n",
    "    i_final = (i + 1) * 5\n",
    "    lista_enviar = lista_contatos[i_inicial:i_final]\n",
    "    print(lista_enviar)\n",
    "\n",
    "    ActionChains(nav).move_to_element(elemento).perform()\n",
    "    elemento.find_element('class name', '_ahkm').click()\n",
    "\n",
    "    nav.find_element('xpath', '//*[@id=\"app\"]/div/span[5]/div/ul/div/li[4]/div').click()\n",
    "\n",
    "    # encaminhar\n",
    "    nav.find_element('xpath', '//*[@id=\"main\"]/span[2]/div/button[4]').click()\n",
    "    \n",
    "    \n",
    "    for contato in lista_enviar:\n",
    "        #selecionar os 5 contatos\n",
    "        #outro contato\n",
    "        nav.find_element('xpath', '//*[@id=\"app\"]/div/span[2]/div/div/div/div/div/div/div/div[1]/div/div[2]/div[2]/div/div[1]/p').send_keys(contato)\n",
    "\n",
    "        sleep(1)\n",
    "        nav.find_element('xpath', '//*[@id=\"app\"]/div/span[2]/div/div/div/div/div/div/div/div[1]/div/div[2]/div[2]/div/div[1]/p').send_keys(Keys.ENTER)\n",
    "        sleep(0.5)\n",
    "        nav.find_element('xpath', '//*[@id=\"app\"]/div/span[2]/div/div/div/div/div/div/div/div[1]/div/div[2]/div[2]/div/div[1]/p').send_keys(Keys.DELETE)\n",
    "        sleep(1)\n",
    "\n",
    "    nav.find_element('xpath', '//*[@id=\"app\"]/div/span[2]/div/div/div/div/div/div/div/span/div/div/div/span').click()\n",
    "        \n"
   ]
  }
 ],
 "metadata": {
  "kernelspec": {
   "display_name": "Python 3",
   "language": "python",
   "name": "python3"
  },
  "language_info": {
   "codemirror_mode": {
    "name": "ipython",
    "version": 3
   },
   "file_extension": ".py",
   "mimetype": "text/x-python",
   "name": "python",
   "nbconvert_exporter": "python",
   "pygments_lexer": "ipython3",
   "version": "3.12.2"
  }
 },
 "nbformat": 4,
 "nbformat_minor": 2
}
