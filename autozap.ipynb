{
 "cells": [
  {
   "cell_type": "code",
   "execution_count": null,
   "metadata": {},
   "outputs": [
    {
     "name": "stdout",
     "output_type": "stream",
     "text": [
      "Google\n"
     ]
    }
   ],
   "source": [
    "import time\n",
    "from selenium import webdriver\n",
    "from selenium.webdriver.chrome.service import Service\n",
    "\n",
    "caminho = '/usr/local/bin/chromedriver'\n",
    "\n",
    "options = webdriver.ChromeOptions()\n",
    "options.binary_location = \"/usr/bin/chromium\"  # onde está seu Chromium\n",
    "options.add_argument(\"--no-sandbox\")\n",
    "options.add_argument(\"--disable-dev-shm-usage\")\n",
    "\n",
    "service = Service(caminho)\n",
    "nav = webdriver.Chrome(service=service, options=options)\n",
    "\n",
    "\n",
    "nav.get('http://www.google.com/')\n",
    "time.sleep(5) # Let the user actually see something!\n",
    "\n",
    "title = nav.title\n",
    "print(title)\n",
    "nav.quit()"
   ]
  },
  {
   "cell_type": "code",
   "execution_count": 3,
   "metadata": {},
   "outputs": [
    {
     "name": "stdout",
     "output_type": "stream",
     "text": [
      "Collecting webdrivermanager\n",
      "  Using cached webdrivermanager-0.10.0.tar.gz (33 kB)\n",
      "  Installing build dependencies ... \u001b[?25ldone\n",
      "\u001b[?25h  Getting requirements to build wheel ... \u001b[?25lerror\n",
      "  \u001b[1;31merror\u001b[0m: \u001b[1msubprocess-exited-with-error\u001b[0m\n",
      "  \n",
      "  \u001b[31m×\u001b[0m \u001b[32mGetting requirements to build wheel\u001b[0m did not run successfully.\n",
      "  \u001b[31m│\u001b[0m exit code: \u001b[1;36m1\u001b[0m\n",
      "  \u001b[31m╰─>\u001b[0m \u001b[31m[31 lines of output]\u001b[0m\n",
      "  \u001b[31m   \u001b[0m /tmp/pip-install-ugjllzaj/webdrivermanager_795633327ee4421db83847bcaeba25e5/versioneer.py:421: SyntaxWarning: invalid escape sequence '\\s'\n",
      "  \u001b[31m   \u001b[0m   LONG_VERSION_PY['git'] = '''\n",
      "  \u001b[31m   \u001b[0m Traceback (most recent call last):\n",
      "  \u001b[31m   \u001b[0m   File \"/home/portugal/anaconda3/lib/python3.12/site-packages/pip/_vendor/pyproject_hooks/_in_process/_in_process.py\", line 353, in <module>\n",
      "  \u001b[31m   \u001b[0m     main()\n",
      "  \u001b[31m   \u001b[0m   File \"/home/portugal/anaconda3/lib/python3.12/site-packages/pip/_vendor/pyproject_hooks/_in_process/_in_process.py\", line 335, in main\n",
      "  \u001b[31m   \u001b[0m     json_out['return_val'] = hook(**hook_input['kwargs'])\n",
      "  \u001b[31m   \u001b[0m                              ^^^^^^^^^^^^^^^^^^^^^^^^^^^^\n",
      "  \u001b[31m   \u001b[0m   File \"/home/portugal/anaconda3/lib/python3.12/site-packages/pip/_vendor/pyproject_hooks/_in_process/_in_process.py\", line 118, in get_requires_for_build_wheel\n",
      "  \u001b[31m   \u001b[0m     return hook(config_settings)\n",
      "  \u001b[31m   \u001b[0m            ^^^^^^^^^^^^^^^^^^^^^\n",
      "  \u001b[31m   \u001b[0m   File \"/tmp/pip-build-env-6pgjpl1w/overlay/lib/python3.12/site-packages/setuptools/build_meta.py\", line 334, in get_requires_for_build_wheel\n",
      "  \u001b[31m   \u001b[0m     return self._get_build_requires(config_settings, requirements=[])\n",
      "  \u001b[31m   \u001b[0m            ^^^^^^^^^^^^^^^^^^^^^^^^^^^^^^^^^^^^^^^^^^^^^^^^^^^^^^^^^^\n",
      "  \u001b[31m   \u001b[0m   File \"/tmp/pip-build-env-6pgjpl1w/overlay/lib/python3.12/site-packages/setuptools/build_meta.py\", line 304, in _get_build_requires\n",
      "  \u001b[31m   \u001b[0m     self.run_setup()\n",
      "  \u001b[31m   \u001b[0m   File \"/tmp/pip-build-env-6pgjpl1w/overlay/lib/python3.12/site-packages/setuptools/build_meta.py\", line 522, in run_setup\n",
      "  \u001b[31m   \u001b[0m     super().run_setup(setup_script=setup_script)\n",
      "  \u001b[31m   \u001b[0m   File \"/tmp/pip-build-env-6pgjpl1w/overlay/lib/python3.12/site-packages/setuptools/build_meta.py\", line 320, in run_setup\n",
      "  \u001b[31m   \u001b[0m     exec(code, locals())\n",
      "  \u001b[31m   \u001b[0m   File \"<string>\", line 47, in <module>\n",
      "  \u001b[31m   \u001b[0m   File \"/tmp/pip-install-ugjllzaj/webdrivermanager_795633327ee4421db83847bcaeba25e5/versioneer.py\", line 1480, in get_version\n",
      "  \u001b[31m   \u001b[0m     return get_versions()[\"version\"]\n",
      "  \u001b[31m   \u001b[0m            ^^^^^^^^^^^^^^\n",
      "  \u001b[31m   \u001b[0m   File \"/tmp/pip-install-ugjllzaj/webdrivermanager_795633327ee4421db83847bcaeba25e5/versioneer.py\", line 1412, in get_versions\n",
      "  \u001b[31m   \u001b[0m     cfg = get_config_from_root(root)\n",
      "  \u001b[31m   \u001b[0m           ^^^^^^^^^^^^^^^^^^^^^^^^^^\n",
      "  \u001b[31m   \u001b[0m   File \"/tmp/pip-install-ugjllzaj/webdrivermanager_795633327ee4421db83847bcaeba25e5/versioneer.py\", line 342, in get_config_from_root\n",
      "  \u001b[31m   \u001b[0m     parser = configparser.SafeConfigParser()\n",
      "  \u001b[31m   \u001b[0m              ^^^^^^^^^^^^^^^^^^^^^^^^^^^^^\n",
      "  \u001b[31m   \u001b[0m AttributeError: module 'configparser' has no attribute 'SafeConfigParser'. Did you mean: 'RawConfigParser'?\n",
      "  \u001b[31m   \u001b[0m \u001b[31m[end of output]\u001b[0m\n",
      "  \n",
      "  \u001b[1;35mnote\u001b[0m: This error originates from a subprocess, and is likely not a problem with pip.\n",
      "\u001b[?25h\u001b[1;31merror\u001b[0m: \u001b[1msubprocess-exited-with-error\u001b[0m\n",
      "\n",
      "\u001b[31m×\u001b[0m \u001b[32mGetting requirements to build wheel\u001b[0m did not run successfully.\n",
      "\u001b[31m│\u001b[0m exit code: \u001b[1;36m1\u001b[0m\n",
      "\u001b[31m╰─>\u001b[0m See above for output.\n",
      "\n",
      "\u001b[1;35mnote\u001b[0m: This error originates from a subprocess, and is likely not a problem with pip.\n"
     ]
    }
   ],
   "source": [
    "!pip install webdrivermanager"
   ]
  },
  {
   "cell_type": "code",
   "execution_count": 9,
   "metadata": {},
   "outputs": [
    {
     "name": "stdout",
     "output_type": "stream",
     "text": [
      "Clicado\n"
     ]
    },
    {
     "ename": "TypeError",
     "evalue": "'str' object is not callable",
     "output_type": "error",
     "traceback": [
      "\u001b[0;31m---------------------------------------------------------------------------\u001b[0m",
      "\u001b[0;31mTypeError\u001b[0m                                 Traceback (most recent call last)",
      "Cell \u001b[0;32mIn[9], line 20\u001b[0m\n\u001b[1;32m     17\u001b[0m \u001b[38;5;28mprint\u001b[39m(\u001b[38;5;124m'\u001b[39m\u001b[38;5;124mClicado\u001b[39m\u001b[38;5;124m'\u001b[39m)\n\u001b[1;32m     19\u001b[0m sleep(\u001b[38;5;241m4\u001b[39m)\n\u001b[0;32m---> 20\u001b[0m titulo_projeto \u001b[38;5;241m=\u001b[39m nav\u001b[38;5;241m.\u001b[39mfind_element(By\u001b[38;5;241m.\u001b[39mXPATH, \u001b[38;5;124m'\u001b[39m\u001b[38;5;124m//*[@id=\u001b[39m\u001b[38;5;124m\"\u001b[39m\u001b[38;5;124mrepo-content-pjax-container\u001b[39m\u001b[38;5;124m\"\u001b[39m\u001b[38;5;124m]/div/div/div/div[1]/react-partial/div/div/div[3]/div[2]/div/div[2]/article/div/h1\u001b[39m\u001b[38;5;124m'\u001b[39m)\u001b[38;5;241m.\u001b[39mtext()\n\u001b[1;32m     22\u001b[0m \u001b[38;5;28mprint\u001b[39m(titulo_projeto)\n",
      "\u001b[0;31mTypeError\u001b[0m: 'str' object is not callable"
     ]
    }
   ],
   "source": [
    "from selenium import webdriver\n",
    "from selenium.webdriver.chrome.service import Service as ChromiumService\n",
    "from selenium.webdriver.common.by import By\n",
    "from webdriver_manager.chrome import ChromeDriverManager\n",
    "from webdriver_manager.core.os_manager import ChromeType\n",
    "from time import sleep\n",
    "\n",
    "\n",
    "chrometype = ChromeType.CHROMIUM\n",
    "service = ChromiumService(ChromeDriverManager(chrome_type=ChromeType.CHROMIUM).install())\n",
    "nav = webdriver.Chrome(service=service)\n",
    "\n",
    "nav.get('https://github.com/guilhptg?tab=repositories')\n",
    "\n",
    "sleep(7)\n",
    "nav.find_element(By.XPATH, '//*[@id=\"user-repositories-list\"]/ul/li[1]/div[1]/div[1]/h3/a').click()\n",
    "print('Clicado')\n",
    "\n",
    "sleep(4)\n",
    "titulo_projeto = nav.find_element(By.XPATH, '//*[@id=\"repo-content-pjax-container\"]/div/div/div/div[1]/react-partial/div/div/div[3]/div[2]/div/div[2]/article/div/h1').text()\n",
    "\n",
    "print(titulo_projeto)\n"
   ]
  },
  {
   "cell_type": "code",
   "execution_count": 10,
   "metadata": {},
   "outputs": [
    {
     "name": "stdout",
     "output_type": "stream",
     "text": [
      "✅ Primeiro repositório clicado com sucesso.\n",
      "📁 Título do projeto: guilhptg/conversor_bin\n"
     ]
    }
   ],
   "source": [
    "from selenium import webdriver\n",
    "from selenium.webdriver.chrome.service import Service as ChromiumService\n",
    "from selenium.webdriver.common.by import By\n",
    "from selenium.webdriver.support.ui import WebDriverWait\n",
    "from selenium.webdriver.support import expected_conditions as EC\n",
    "from webdriver_manager.chrome import ChromeDriverManager\n",
    "from webdriver_manager.core.os_manager import ChromeType\n",
    "\n",
    "# Inicializa o driver para Chromium\n",
    "chrometype = ChromeType.CHROMIUM\n",
    "service = ChromiumService(ChromeDriverManager(chrome_type=chrometype).install())\n",
    "options = webdriver.ChromeOptions()\n",
    "options.add_argument(\"--no-sandbox\")\n",
    "options.add_argument(\"--disable-dev-shm-usage\")\n",
    "\n",
    "nav = webdriver.Chrome(service=service, options=options)\n",
    "\n",
    "try:\n",
    "    nav.get('https://github.com/guilhptg?tab=repositories')\n",
    "\n",
    "    # Aguarda até que o primeiro repositório esteja visível\n",
    "    first_repo = WebDriverWait(nav, 10).until(\n",
    "        EC.presence_of_element_located((By.XPATH, '//*[@id=\"user-repositories-list\"]/ul/li[1]/div[1]/div[1]/h3/a'))\n",
    "    )\n",
    "    first_repo.click()\n",
    "    print('✅ Primeiro repositório clicado com sucesso.')\n",
    "\n",
    "    # Aguarda até que o título do repositório apareça\n",
    "    titulo_projeto = WebDriverWait(nav, 10).until(\n",
    "        EC.presence_of_element_located((By.XPATH, '//*[@id=\"repo-content-pjax-container\"]//h1'))\n",
    "    ).text\n",
    "\n",
    "    print(f'📁 Título do projeto: {titulo_projeto}')\n",
    "\n",
    "except Exception as e:\n",
    "    print(f'❌ Ocorreu um erro: {e}')\n",
    "\n",
    "finally:\n",
    "    nav.quit()"
   ]
  },
  {
   "cell_type": "code",
   "execution_count": null,
   "metadata": {},
   "outputs": [
    {
     "ename": "ModuleNotFoundError",
     "evalue": "No module named 'webdriver_manager'",
     "output_type": "error",
     "traceback": [
      "\u001b[0;31m---------------------------------------------------------------------------\u001b[0m",
      "\u001b[0;31mModuleNotFoundError\u001b[0m                       Traceback (most recent call last)",
      "Cell \u001b[0;32mIn[5], line 3\u001b[0m\n\u001b[1;32m      1\u001b[0m \u001b[38;5;28;01mfrom\u001b[39;00m \u001b[38;5;21;01mselenium\u001b[39;00m \u001b[38;5;28;01mimport\u001b[39;00m webdriver\n\u001b[1;32m      2\u001b[0m \u001b[38;5;28;01mfrom\u001b[39;00m \u001b[38;5;21;01mselenium\u001b[39;00m\u001b[38;5;21;01m.\u001b[39;00m\u001b[38;5;21;01mwebdriver\u001b[39;00m\u001b[38;5;21;01m.\u001b[39;00m\u001b[38;5;21;01mchrome\u001b[39;00m\u001b[38;5;21;01m.\u001b[39;00m\u001b[38;5;21;01mservice\u001b[39;00m \u001b[38;5;28;01mimport\u001b[39;00m Service\n\u001b[0;32m----> 3\u001b[0m \u001b[38;5;28;01mfrom\u001b[39;00m \u001b[38;5;21;01mwebdriver_manager\u001b[39;00m\u001b[38;5;21;01m.\u001b[39;00m\u001b[38;5;21;01mchrome\u001b[39;00m \u001b[38;5;28;01mimport\u001b[39;00m ChromeDriverManager\n\u001b[1;32m      4\u001b[0m \u001b[38;5;28;01mimport\u001b[39;00m \u001b[38;5;21;01mtime\u001b[39;00m\n\u001b[1;32m      6\u001b[0m service \u001b[38;5;241m=\u001b[39m Service(ChromeDriverManager(chrome_type\u001b[38;5;241m=\u001b[39mchrometype)\u001b[38;5;241m.\u001b[39minstall())\n",
      "\u001b[0;31mModuleNotFoundError\u001b[0m: No module named 'webdriver_manager'"
     ]
    }
   ],
   "source": [
    "from selenium import webdriver\n",
    "from selenium.webdriver.chrome.service import Service\n",
    "from webdriver_manager.chrome import ChromeDriverManager\n",
    "import time\n",
    "\n",
    "service = Service(ChromeDriverManager(chrome_type=chrometype).install())\n",
    "nav = webdriver.Chrome(service=service)\n",
    "\n",
    "nav.get('https:///github.com')\n",
    "print('Faça seu login, você tem 80s')\n",
    "\n",
    "time.sleep(80)"
   ]
  },
  {
   "cell_type": "code",
   "execution_count": null,
   "metadata": {},
   "outputs": [],
   "source": [
    "\n",
    "from selenium.webdriver.common.keys import Keys\n",
    "import pyperclip\n",
    "from time import sleep\n",
    "\n",
    "mensagem = '''Ola ! Teste de robô para enviar mensagens automaticas.\n",
    "Essa mensagem não precisa ser respondida.'''\n",
    "\n",
    "lista_contatos = ['Guilherme Portugal', 'Gui Sp', 'autozap', 'Teste Zap', 'Teste Automação', 'aautozap']\n",
    "\n",
    "# enviar mensagem para meu numero,\n",
    "#clique lupa\n",
    "#escrever 'voce'\n",
    "#dar enter\n",
    "\n",
    "nav.find_element('xpath', '//*[@id=\"side\"]/div[1]/div/div[2]/button/div[2]/span').click()\n",
    "# para depois encamihar para lista de contatos\n",
    "nav.find_element('xpath', '//*[@id=\"side\"]/div[1]/div/div[2]/div[2]/div/div[1]/p').send_keys('Guilherme Portugal')\n",
    "nav.find_element('xpath', '//*[@id=\"side\"]/div[1]/div/div[2]/div[2]/div/div[1]/p').send_keys(Keys.ENTER)\n",
    "sleep(1)\n",
    "\n",
    "\n",
    "# escrever a mensagem para mim msm\n",
    "pyperclip.copy(mensagem)\n",
    "nav.find_element('xpath', '//*[@id=\"main\"]/footer/div[1]/div/span[2]/div/div[2]/div[1]/div/div[1]/p').send_keys(Keys.CONTROL + 'v')\n",
    "nav.find_element('xpath', '//*[@id=\"main\"]/footer/div[1]/div/span[2]/div/div[2]/div[1]/div/div[1]/p').send_keys(Keys.ENTER)\n",
    "\n",
    "\n",
    "#\n"
   ]
  },
  {
   "cell_type": "code",
   "execution_count": null,
   "metadata": {},
   "outputs": [],
   "source": [
    "from selenium.webdriver.common.action_chains import ActionChains\n",
    "\n",
    "#colocar mouse na seta \n",
    "\n",
    "lista_elementos = nav.find_elements('class name', '_amkd')\n",
    "for item in lista_elementos:\n",
    "    mensagem = mensagem.replace('\\n', '')\n",
    "    texto = item.text.replace('\\n', '')\n",
    "    if mensagem in texto:\n",
    "        elemento = item\n",
    "\n",
    "\n"
   ]
  },
  {
   "cell_type": "code",
   "execution_count": null,
   "metadata": {},
   "outputs": [],
   "source": [
    "qntd_contatos = len(lista_contatos)\n",
    "print(qntd_contatos)\n",
    "\n",
    "if qntd_contatos % 5 == 0:\n",
    "    qntd_blocos = qntd_contatos/5\n",
    "else:\n",
    "    qntd_blocos = int(qntd_contatos/5) + 1\n",
    "\n",
    "for i in range(qntd_blocos):\n",
    "    # rodar o codigo de encaminhamento\n",
    "    i_inicial = i * 5\n",
    "    i_final = (i + 1) * 5\n",
    "    lista_enviar = lista_contatos[i_inicial:i_final]\n",
    "    print(lista_enviar)\n",
    "\n",
    "    ActionChains(nav).move_to_element(elemento).perform()\n",
    "    elemento.find_element('class name', '_ahkm').click()\n",
    "\n",
    "    nav.find_element('xpath', '//*[@id=\"app\"]/div/span[5]/div/ul/div/li[4]/div').click()\n",
    "\n",
    "    # encaminhar\n",
    "    nav.find_element('xpath', '//*[@id=\"main\"]/span[2]/div/button[4]').click()\n",
    "    \n",
    "    \n",
    "    for contato in lista_enviar:\n",
    "        #selecionar os 5 contatos\n",
    "        #outro contato\n",
    "        nav.find_element('xpath', '//*[@id=\"app\"]/div/span[2]/div/div/div/div/div/div/div/div[1]/div/div[2]/div[2]/div/div[1]/p').send_keys(contato)\n",
    "\n",
    "        sleep(1)\n",
    "        nav.find_element('xpath', '//*[@id=\"app\"]/div/span[2]/div/div/div/div/div/div/div/div[1]/div/div[2]/div[2]/div/div[1]/p').send_keys(Keys.ENTER)\n",
    "        sleep(0.5)\n",
    "        nav.find_element('xpath', '//*[@id=\"app\"]/div/span[2]/div/div/div/div/div/div/div/div[1]/div/div[2]/div[2]/div/div[1]/p').send_keys(Keys.DELETE)\n",
    "        sleep(1)\n",
    "\n",
    "    nav.find_element('xpath', '//*[@id=\"app\"]/div/span[2]/div/div/div/div/div/div/div/span/div/div/div/span').click()\n",
    "        \n"
   ]
  }
 ],
 "metadata": {
  "kernelspec": {
   "display_name": ".venv",
   "language": "python",
   "name": "python3"
  },
  "language_info": {
   "codemirror_mode": {
    "name": "ipython",
    "version": 3
   },
   "file_extension": ".py",
   "mimetype": "text/x-python",
   "name": "python",
   "nbconvert_exporter": "python",
   "pygments_lexer": "ipython3",
   "version": "3.11.2"
  }
 },
 "nbformat": 4,
 "nbformat_minor": 2
}
